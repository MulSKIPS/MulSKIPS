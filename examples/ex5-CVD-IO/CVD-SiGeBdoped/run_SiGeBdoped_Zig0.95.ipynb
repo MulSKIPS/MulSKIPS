{
 "cells": [
  {
   "cell_type": "code",
   "execution_count": null,
   "id": "6f1f0e8a",
   "metadata": {},
   "outputs": [],
   "source": [
    "from dolfin import *\n",
    "from subprocess import call\n",
    "import sys, os, time\n",
    "import numpy as np\n",
    "from pymulskips import io, setuprun, process, analyze\n",
    "import cantera\n",
    "print(f'cantera v{cantera.__version__}')\n",
    "import meshio\n",
    "print(f'meshio v{meshio.__version__}')\n",
    "import cashocs\n",
    "print(f'cashocs v{cashocs.__version__}')"
   ]
  },
  {
   "cell_type": "code",
   "execution_count": null,
   "id": "795e397e",
   "metadata": {},
   "outputs": [],
   "source": [
    "# Set the path of MulSKIPS source code, and test if it exists.\n",
    "execpath = './mulskips-source'\n",
    "if not os.path.exists(execpath):\n",
    "    print(f\"Error in run.py, the path of mulskips-source folder: {execpath} does not exist.\")\n",
    "    sys.exit(1)"
   ]
  },
  {
   "cell_type": "code",
   "execution_count": null,
   "id": "b9c05166",
   "metadata": {},
   "outputs": [],
   "source": [
    "\"\"\" \n",
    "Setup & Run MulSKIPS \n",
    "Quickly Recompiles MulSKIPS to reset the box size.  \n",
    "Then runs the MulSKIPS simulation.\n",
    "All results will be in rundirname.\n",
    "\"\"\"\n",
    "\n",
    "# NB: with mp='custom' we are telling MulSKIPS to read the PRE-EXISTING start.dat placed in rundirname folder!\n",
    "\n",
    "setuprun.setup_mulskips_src(execpath, lenx=780, leny=780, lenz=780) # it will rerecompile if needed\n",
    "rundirname = '.'\n",
    "Nout = 50\n",
    "itermax = 1200000000 \n",
    "endok = setuprun.run_mulskips(execpath, rundirname, \\\n",
    "    Simulation='SG', mp='custom', Seed_box=[48,0,0], \\\n",
    "    PtransZig=0.95, RunType='R', IDUM=9117116, \\\n",
    "    ExitStrategy='Iter', OutMolMol=int(itermax/Nout), IterMax=itermax, \\\n",
    "    SaveFinalState=False, setup_only=False)\n",
    "if not endok:\n",
    "    print('\\nSTOP!!! Few MC particles in KMC...')\n",
    "    sys.exit()\n"
   ]
  }
 ],
 "metadata": {
  "kernelspec": {
   "display_name": "Python 3",
   "language": "python",
   "name": "python3"
  },
  "language_info": {
   "codemirror_mode": {
    "name": "ipython",
    "version": 3
   },
   "file_extension": ".py",
   "mimetype": "text/x-python",
   "name": "python",
   "nbconvert_exporter": "python",
   "pygments_lexer": "ipython3",
   "version": "3.8.8"
  }
 },
 "nbformat": 4,
 "nbformat_minor": 5
}
